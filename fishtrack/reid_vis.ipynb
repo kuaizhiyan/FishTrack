{
 "cells": [
  {
   "cell_type": "code",
   "execution_count": null,
   "metadata": {},
   "outputs": [],
   "source": []
  },
  {
   "cell_type": "code",
   "execution_count": null,
   "metadata": {},
   "outputs": [
    {
     "ename": "FileNotFoundError",
     "evalue": "[Errno 2] No such file or directory: 'your_image.jpg'",
     "output_type": "error",
     "traceback": [
      "\u001b[0;31m---------------------------------------------------------------------------\u001b[0m",
      "\u001b[0;31mFileNotFoundError\u001b[0m                         Traceback (most recent call last)",
      "Cell \u001b[0;32mIn[12], line 5\u001b[0m\n\u001b[1;32m      3\u001b[0m \u001b[38;5;66;03m# 读取输入图像（请替换为你的图片路径）\u001b[39;00m\n\u001b[1;32m      4\u001b[0m img_path \u001b[38;5;241m=\u001b[39m \u001b[38;5;124m\"\u001b[39m\u001b[38;5;124myour_image.jpg\u001b[39m\u001b[38;5;124m\"\u001b[39m  \u001b[38;5;66;03m# 替换为实际图像路径\u001b[39;00m\n\u001b[0;32m----> 5\u001b[0m img \u001b[38;5;241m=\u001b[39m \u001b[43mImage\u001b[49m\u001b[38;5;241;43m.\u001b[39;49m\u001b[43mopen\u001b[49m\u001b[43m(\u001b[49m\u001b[43mimg_path\u001b[49m\u001b[43m)\u001b[49m\n\u001b[1;32m      6\u001b[0m \u001b[38;5;28mid\u001b[39m \u001b[38;5;241m=\u001b[39m \u001b[38;5;241m1\u001b[39m  \u001b[38;5;66;03m# 设定ID\u001b[39;00m\n\u001b[1;32m      8\u001b[0m \u001b[38;5;66;03m# 调整图像大小\u001b[39;00m\n",
      "File \u001b[0;32m~/miniconda3/envs/openmmlab/lib/python3.8/site-packages/PIL/Image.py:3236\u001b[0m, in \u001b[0;36mopen\u001b[0;34m(fp, mode, formats)\u001b[0m\n\u001b[1;32m   3233\u001b[0m     filename \u001b[38;5;241m=\u001b[39m fp\n\u001b[1;32m   3235\u001b[0m \u001b[38;5;28;01mif\u001b[39;00m filename:\n\u001b[0;32m-> 3236\u001b[0m     fp \u001b[38;5;241m=\u001b[39m \u001b[43mbuiltins\u001b[49m\u001b[38;5;241;43m.\u001b[39;49m\u001b[43mopen\u001b[49m\u001b[43m(\u001b[49m\u001b[43mfilename\u001b[49m\u001b[43m,\u001b[49m\u001b[43m \u001b[49m\u001b[38;5;124;43m\"\u001b[39;49m\u001b[38;5;124;43mrb\u001b[39;49m\u001b[38;5;124;43m\"\u001b[39;49m\u001b[43m)\u001b[49m\n\u001b[1;32m   3237\u001b[0m     exclusive_fp \u001b[38;5;241m=\u001b[39m \u001b[38;5;28;01mTrue\u001b[39;00m\n\u001b[1;32m   3239\u001b[0m \u001b[38;5;28;01mtry\u001b[39;00m:\n",
      "\u001b[0;31mFileNotFoundError\u001b[0m: [Errno 2] No such file or directory: 'your_image.jpg'"
     ]
    }
   ],
   "source": [
    "from PIL import Image, ImageDraw, ImageFont\n",
    "\n",
    "# 读取输入图像（请替换为你的图片路径）\n",
    "img_path = \"/share/Lab_Datasets/wd/4/images/1/978_1.jpg\"  # 替换为实际图像路径\n",
    "img = Image.open(img_path)\n",
    "id = 1  # 设定ID\n",
    "\n",
    "# 调整图像大小\n",
    "img1 = img.resize((356, 200))  # 手动调整大小\n",
    "\n",
    "# 在左上角标注 ID\n",
    "draw = ImageDraw.Draw(img1)\n",
    "\n",
    "# 1️⃣  尝试加载较大的系统字体\n",
    "try:\n",
    "    font = ImageFont.truetype(\"/usr/share/fonts/truetype/dejavu/DejaVuSans-Bold.ttf\", 48)  # 确保字体可用\n",
    "except IOError:\n",
    "    # 2️⃣  如果加载失败，使用更大的默认字体（如果支持）\n",
    "    print(\"error 1\")\n",
    "    font = ImageFont.truetype(\"arial.ttf\", 48)  # Windows 可用\n",
    "except:\n",
    "    # 3️⃣  最后备选，使用 PIL 默认字体（但是字体大小不可调）\n",
    "    print(\"Use default font , unchangable\")\n",
    "    font = ImageFont.load_default()\n",
    "\n",
    "# 确保字体有效\n",
    "text = f\"ID: {id}\"\n",
    "text_position = (20, 20)  # 左上角，适当调整以适配更大的字体\n",
    "text_color = (255, 0, 0)  # 红色\n",
    "draw.text(text_position, text, fill=text_color, font=font)\n",
    "\n",
    "# 显示并保存图片\n",
    "# output_path = \"output_image_large_font.jpg\"\n",
    "# img1.save(output_path)\n",
    "img1.show()\n",
    "print(f\"Processed image saved at: {output_path}\")\n"
   ]
  },
  {
   "cell_type": "code",
   "execution_count": null,
   "metadata": {},
   "outputs": [],
   "source": []
  }
 ],
 "metadata": {
  "kernelspec": {
   "display_name": "openmmlab",
   "language": "python",
   "name": "python3"
  },
  "language_info": {
   "codemirror_mode": {
    "name": "ipython",
    "version": 3
   },
   "file_extension": ".py",
   "mimetype": "text/x-python",
   "name": "python",
   "nbconvert_exporter": "python",
   "pygments_lexer": "ipython3",
   "version": "3.8.18"
  }
 },
 "nbformat": 4,
 "nbformat_minor": 2
}
